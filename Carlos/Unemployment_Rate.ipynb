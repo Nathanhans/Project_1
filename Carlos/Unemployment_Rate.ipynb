{
 "cells": [
  {
   "cell_type": "code",
   "execution_count": 6,
   "metadata": {},
   "outputs": [],
   "source": [
    "# Dependencies\n",
    "import requests\n",
    "import pandas as pd\n",
    "from census import Census\n",
    "import us \n",
    "from us import states\n",
    "# Import U.S. Census API Key\n",
    "from config import api_key"
   ]
  },
  {
   "cell_type": "code",
   "execution_count": 8,
   "metadata": {},
   "outputs": [
    {
     "ename": "CensusException",
     "evalue": "error: unknown/unsupported geography heirarchy",
     "output_type": "error",
     "traceback": [
      "\u001b[0;31m---------------------------------------------------------------------------\u001b[0m",
      "\u001b[0;31mCensusException\u001b[0m                           Traceback (most recent call last)",
      "\u001b[1;32m/Users/carlosaraujo/Desktop/DataClass/Project_1/Carlos/Unemployment_Rate.ipynb Cell 2\u001b[0m line \u001b[0;36m2\n\u001b[1;32m     <a href='vscode-notebook-cell:/Users/carlosaraujo/Desktop/DataClass/Project_1/Carlos/Unemployment_Rate.ipynb#W1sZmlsZQ%3D%3D?line=24'>25</a>\u001b[0m \u001b[39mfor\u001b[39;00m year \u001b[39min\u001b[39;00m years:\n\u001b[1;32m     <a href='vscode-notebook-cell:/Users/carlosaraujo/Desktop/DataClass/Project_1/Carlos/Unemployment_Rate.ipynb#W1sZmlsZQ%3D%3D?line=25'>26</a>\u001b[0m     c \u001b[39m=\u001b[39m Census(api_key, year\u001b[39m=\u001b[39myear)\n\u001b[0;32m---> <a href='vscode-notebook-cell:/Users/carlosaraujo/Desktop/DataClass/Project_1/Carlos/Unemployment_Rate.ipynb#W1sZmlsZQ%3D%3D?line=26'>27</a>\u001b[0m     census_data \u001b[39m=\u001b[39m c\u001b[39m.\u001b[39macs5\u001b[39m.\u001b[39mget(variables, common_params)\n\u001b[1;32m     <a href='vscode-notebook-cell:/Users/carlosaraujo/Desktop/DataClass/Project_1/Carlos/Unemployment_Rate.ipynb#W1sZmlsZQ%3D%3D?line=28'>29</a>\u001b[0m     \u001b[39m# Initialize empty list to store dataframes\u001b[39;00m\n\u001b[1;32m     <a href='vscode-notebook-cell:/Users/carlosaraujo/Desktop/DataClass/Project_1/Carlos/Unemployment_Rate.ipynb#W1sZmlsZQ%3D%3D?line=29'>30</a>\u001b[0m     census_dfs \u001b[39m=\u001b[39m []\n",
      "File \u001b[0;32m~/anaconda3/lib/python3.11/site-packages/census/core.py:313\u001b[0m, in \u001b[0;36mACSClient.get\u001b[0;34m(self, *args, **kwargs)\u001b[0m\n\u001b[1;32m    310\u001b[0m \u001b[39mdef\u001b[39;00m \u001b[39mget\u001b[39m(\u001b[39mself\u001b[39m, \u001b[39m*\u001b[39margs, \u001b[39m*\u001b[39m\u001b[39m*\u001b[39mkwargs):\n\u001b[1;32m    311\u001b[0m     \u001b[39mself\u001b[39m\u001b[39m.\u001b[39m_switch_endpoints(kwargs\u001b[39m.\u001b[39mget(\u001b[39m'\u001b[39m\u001b[39myear\u001b[39m\u001b[39m'\u001b[39m, \u001b[39mself\u001b[39m\u001b[39m.\u001b[39mdefault_year))\n\u001b[0;32m--> 313\u001b[0m     \u001b[39mreturn\u001b[39;00m \u001b[39msuper\u001b[39m(ACSClient, \u001b[39mself\u001b[39m)\u001b[39m.\u001b[39mget(\u001b[39m*\u001b[39margs, \u001b[39m*\u001b[39m\u001b[39m*\u001b[39mkwargs)\n",
      "File \u001b[0;32m~/anaconda3/lib/python3.11/site-packages/census/core.py:159\u001b[0m, in \u001b[0;36mClient.get\u001b[0;34m(self, fields, geo, year, **kwargs)\u001b[0m\n\u001b[1;32m    156\u001b[0m sort_by_geoid \u001b[39m=\u001b[39m \u001b[39mlen\u001b[39m(fields) \u001b[39m>\u001b[39m \u001b[39m49\u001b[39m \u001b[39mand\u001b[39;00m (\u001b[39mnot\u001b[39;00m year \u001b[39mor\u001b[39;00m year \u001b[39m>\u001b[39m \u001b[39m2009\u001b[39m)\n\u001b[1;32m    157\u001b[0m all_results \u001b[39m=\u001b[39m (\u001b[39mself\u001b[39m\u001b[39m.\u001b[39mquery(forty_nine_fields, geo, year, sort_by_geoid\u001b[39m=\u001b[39msort_by_geoid, \u001b[39m*\u001b[39m\u001b[39m*\u001b[39mkwargs)\n\u001b[1;32m    158\u001b[0m                \u001b[39mfor\u001b[39;00m forty_nine_fields \u001b[39min\u001b[39;00m chunks(fields, \u001b[39m49\u001b[39m))\n\u001b[0;32m--> 159\u001b[0m merged_results \u001b[39m=\u001b[39m [merge(result) \u001b[39mfor\u001b[39;00m result \u001b[39min\u001b[39;00m \u001b[39mzip\u001b[39m(\u001b[39m*\u001b[39mall_results)]\n\u001b[1;32m    161\u001b[0m \u001b[39mreturn\u001b[39;00m merged_results\n",
      "File \u001b[0;32m~/anaconda3/lib/python3.11/site-packages/census/core.py:157\u001b[0m, in \u001b[0;36m<genexpr>\u001b[0;34m(.0)\u001b[0m\n\u001b[1;32m    150\u001b[0m \u001b[39m\u001b[39m\u001b[39m\"\"\"\u001b[39;00m\n\u001b[1;32m    151\u001b[0m \u001b[39mThe API only accepts up to 50 fields on each query.\u001b[39;00m\n\u001b[1;32m    152\u001b[0m \u001b[39mChunk requests, and use the unique GEO_ID to match up the chunks\u001b[39;00m\n\u001b[1;32m    153\u001b[0m \u001b[39min case the responses are in different orders.\u001b[39;00m\n\u001b[1;32m    154\u001b[0m \u001b[39mGEO_ID is not reliably present in pre-2010 requests.\u001b[39;00m\n\u001b[1;32m    155\u001b[0m \u001b[39m\"\"\"\u001b[39;00m\n\u001b[1;32m    156\u001b[0m sort_by_geoid \u001b[39m=\u001b[39m \u001b[39mlen\u001b[39m(fields) \u001b[39m>\u001b[39m \u001b[39m49\u001b[39m \u001b[39mand\u001b[39;00m (\u001b[39mnot\u001b[39;00m year \u001b[39mor\u001b[39;00m year \u001b[39m>\u001b[39m \u001b[39m2009\u001b[39m)\n\u001b[0;32m--> 157\u001b[0m all_results \u001b[39m=\u001b[39m (\u001b[39mself\u001b[39m\u001b[39m.\u001b[39mquery(forty_nine_fields, geo, year, sort_by_geoid\u001b[39m=\u001b[39msort_by_geoid, \u001b[39m*\u001b[39m\u001b[39m*\u001b[39mkwargs)\n\u001b[1;32m    158\u001b[0m                \u001b[39mfor\u001b[39;00m forty_nine_fields \u001b[39min\u001b[39;00m chunks(fields, \u001b[39m49\u001b[39m))\n\u001b[1;32m    159\u001b[0m merged_results \u001b[39m=\u001b[39m [merge(result) \u001b[39mfor\u001b[39;00m result \u001b[39min\u001b[39;00m \u001b[39mzip\u001b[39m(\u001b[39m*\u001b[39mall_results)]\n\u001b[1;32m    161\u001b[0m \u001b[39mreturn\u001b[39;00m merged_results\n",
      "File \u001b[0;32m~/anaconda3/lib/python3.11/site-packages/census/core.py:60\u001b[0m, in \u001b[0;36mretry_on_transient_error.<locals>.wrapper\u001b[0;34m(self, *args, **kwargs)\u001b[0m\n\u001b[1;32m     58\u001b[0m \u001b[39mfor\u001b[39;00m _ \u001b[39min\u001b[39;00m \u001b[39mrange\u001b[39m(\u001b[39mmax\u001b[39m(\u001b[39mself\u001b[39m\u001b[39m.\u001b[39mretries \u001b[39m-\u001b[39m \u001b[39m1\u001b[39m, \u001b[39m0\u001b[39m)):\n\u001b[1;32m     59\u001b[0m     \u001b[39mtry\u001b[39;00m:\n\u001b[0;32m---> 60\u001b[0m         result \u001b[39m=\u001b[39m func(\u001b[39mself\u001b[39m, \u001b[39m*\u001b[39margs, \u001b[39m*\u001b[39m\u001b[39m*\u001b[39mkwargs)\n\u001b[1;32m     61\u001b[0m     \u001b[39mexcept\u001b[39;00m CensusException \u001b[39mas\u001b[39;00m e:\n\u001b[1;32m     62\u001b[0m         \u001b[39mif\u001b[39;00m \u001b[39m\"\u001b[39m\u001b[39mThere was an error while running your query.  We\u001b[39m\u001b[39m'\u001b[39m\u001b[39mve logged the error and we\u001b[39m\u001b[39m'\u001b[39m\u001b[39mll correct it ASAP.  Sorry for the inconvenience.\u001b[39m\u001b[39m\"\u001b[39m \u001b[39min\u001b[39;00m \u001b[39mstr\u001b[39m(e):\n",
      "File \u001b[0;32m~/anaconda3/lib/python3.11/site-packages/census/core.py:214\u001b[0m, in \u001b[0;36mClient.query\u001b[0;34m(self, fields, geo, year, sort_by_geoid, **kwargs)\u001b[0m\n\u001b[1;32m    211\u001b[0m     \u001b[39mreturn\u001b[39;00m []\n\u001b[1;32m    213\u001b[0m \u001b[39melse\u001b[39;00m:\n\u001b[0;32m--> 214\u001b[0m     \u001b[39mraise\u001b[39;00m CensusException(resp\u001b[39m.\u001b[39mtext)\n",
      "\u001b[0;31mCensusException\u001b[0m: error: unknown/unsupported geography heirarchy"
     ]
    }
   ],
   "source": [
    "# Dataframes for Unemployment Rate\n",
    "\n",
    "years = [2017,2018,2019,2020,2021]\n",
    "\n",
    "variables = [\n",
    "    \"NAME\",\n",
    "    \"B19013_001E\",  # population\n",
    "    \"B01003_001E\",  # median age total\n",
    "    \"B01002_002E\",  # median age (male)\n",
    "    \"B01002_003E\",  # median age (female)\n",
    "    \"B01002_001E\",  # household income\n",
    "    \"B19301_001E\",  # Per capital income\n",
    "    \"B17001_002E\",  # poverty count\n",
    "    \"B23022_001E\",  # total work force\n",
    "    \"B23001_088E\",  # total female workforce\n",
    "    \"B23022_049E\",  # total female did not work\n",
    "    \"B23022_002E\",  # total male workforce\n",
    "    \"B23022_025E\",  # total male did not work\n",
    "    \"B15003_023E\",  # masters degrees\n",
    "    \"B25058_001E\",  # median rent\n",
    "]\n",
    "\n",
    "common_params = {'for': 'state:*','for': 'unemploymentrate:*'}\n",
    "\n",
    "for year in years:\n",
    "    c = Census(api_key, year=year)\n",
    "    census_data = c.acs5.get(variables, common_params)\n",
    "    \n",
    "    # Initialize empty list to store dataframes\n",
    "    census_dfs = []\n",
    "\n",
    "    # Convert to DataFrame and add \"year\" column\n",
    "    census_pd = pd.DataFrame(census_data)\n",
    "    census_pd['Year'] = year\n",
    "\n",
    "    # Append the DataFrame to the list\n",
    "    census_dfs.append(census_pd)"
   ]
  },
  {
   "cell_type": "code",
   "execution_count": null,
   "metadata": {},
   "outputs": [],
   "source": []
  }
 ],
 "metadata": {
  "kernelspec": {
   "display_name": "base",
   "language": "python",
   "name": "python3"
  },
  "language_info": {
   "codemirror_mode": {
    "name": "ipython",
    "version": 3
   },
   "file_extension": ".py",
   "mimetype": "text/x-python",
   "name": "python",
   "nbconvert_exporter": "python",
   "pygments_lexer": "ipython3",
   "version": "3.11.5"
  },
  "orig_nbformat": 4
 },
 "nbformat": 4,
 "nbformat_minor": 2
}
