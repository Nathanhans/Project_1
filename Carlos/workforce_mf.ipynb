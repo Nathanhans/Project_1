{
 "cells": [
  {
   "cell_type": "code",
   "execution_count": 1,
   "metadata": {},
   "outputs": [],
   "source": [
    "# Dependencies\n",
    "import requests\n",
    "import pandas as pd\n",
    "from census import Census\n",
    "import us \n",
    "from us import states\n",
    "# Import U.S. Census API Key\n",
    "from config import api_key"
   ]
  },
  {
   "cell_type": "code",
   "execution_count": 2,
   "metadata": {},
   "outputs": [],
   "source": [
    "#GET STATE ONLY INFO FROM CENSUS\n",
    "\n",
    "years = [2021]\n",
    "\n",
    "for year in years:\n",
    "\n",
    "    c = Census(\n",
    "    api_key,\n",
    "    year = year\n",
    "              )\n",
    "    \n",
    "    census_data = c.acs5.get(\n",
    "        (\n",
    "            \"NAME\",\n",
    "            \"B23022_001E\", #total work force\n",
    "            \"B23001_088E\", #total female workforce\n",
    "            \"B23022_049E\", #total female did not work\n",
    "            \"B23022_002E\", #total male workforce\n",
    "            \"B23022_025E\", #total male did not work\n",
    "\n",
    "            \n",
    "        ), {'for': 'state:*'}\n",
    "    )\n",
    "\n",
    "\n",
    "# # Convert to DataFrame, add the year of the census data, concatenate dfs together\n",
    "    if year == years[0]:\n",
    "        census_pd = pd.DataFrame(census_data)\n",
    "        census_pd['Year'] = year\n",
    "        census_pd_combined = census_pd\n",
    "    else:\n",
    "        census_pd = pd.DataFrame(census_data)\n",
    "        census_pd['Year'] = year\n",
    "        census_pd_combined = pd.concat([census_pd,census_pd_combined])\n",
    "\n",
    "#Column renaming\n",
    "census_pd_combined = census_pd_combined.rename(\n",
    "    columns = {\n",
    "        \"NAME\":        \"Name\",\n",
    "        \"B23022_001E\": \"Total Work Force\",\n",
    "        \"B23001_088E\": \"Total Female Workforce\",\n",
    "        \"B23022_049E\": \"Total Female Did Not Work\",\n",
    "        \"B23022_002E\": \"Total Male Workforce\",\n",
    "        \"B23022_025E\": \"Total Male Did Not Work\",\n",
    "        \n",
    "    }\n",
    "        )\n"
   ]
  },
  {
   "cell_type": "code",
   "execution_count": null,
   "metadata": {},
   "outputs": [],
   "source": [
    "unemployment_df = "
   ]
  },
  {
   "cell_type": "code",
   "execution_count": 3,
   "metadata": {},
   "outputs": [
    {
     "ename": "NameError",
     "evalue": "name 'shapefile_df' is not defined",
     "output_type": "error",
     "traceback": [
      "\u001b[0;31m---------------------------------------------------------------------------\u001b[0m",
      "\u001b[0;31mNameError\u001b[0m                                 Traceback (most recent call last)",
      "\u001b[1;32m/Users/carlosaraujo/Desktop/DataClass/Project_1/Carlos/workforce_mf.ipynb Cell 3\u001b[0m line \u001b[0;36m8\n\u001b[1;32m      <a href='vscode-notebook-cell:/Users/carlosaraujo/Desktop/DataClass/Project_1/Carlos/workforce_mf.ipynb#W2sZmlsZQ%3D%3D?line=4'>5</a>\u001b[0m census_pd_combined\u001b[39m.\u001b[39mhead()\n\u001b[1;32m      <a href='vscode-notebook-cell:/Users/carlosaraujo/Desktop/DataClass/Project_1/Carlos/workforce_mf.ipynb#W2sZmlsZQ%3D%3D?line=6'>7</a>\u001b[0m \u001b[39m#merge\u001b[39;00m\n\u001b[0;32m----> <a href='vscode-notebook-cell:/Users/carlosaraujo/Desktop/DataClass/Project_1/Carlos/workforce_mf.ipynb#W2sZmlsZQ%3D%3D?line=7'>8</a>\u001b[0m census_pd_combined_shape \u001b[39m=\u001b[39m pd\u001b[39m.\u001b[39mmerge(census_pd_combined, shapefile_df, how \u001b[39m=\u001b[39m \u001b[39m'\u001b[39m\u001b[39mleft\u001b[39m\u001b[39m'\u001b[39m, on\u001b[39m=\u001b[39m\u001b[39m'\u001b[39m\u001b[39mstate_code\u001b[39m\u001b[39m'\u001b[39m)\n\u001b[1;32m      <a href='vscode-notebook-cell:/Users/carlosaraujo/Desktop/DataClass/Project_1/Carlos/workforce_mf.ipynb#W2sZmlsZQ%3D%3D?line=8'>9</a>\u001b[0m census_pd_combined_shape\u001b[39m.\u001b[39mhead()\n",
      "\u001b[0;31mNameError\u001b[0m: name 'shapefile_df' is not defined"
     ]
    }
   ],
   "source": [
    "#Merge Datasets\n",
    "\n",
    "#create key\n",
    "census_pd_combined['state_code'] = census_pd_combined['state'].astype(int)\n",
    "census_pd_combined.head()\n",
    "\n",
    "#merge\n",
    "census_pd_combined_shape = pd.merge(census_pd_combined, shapefile_df, how = 'left', on='state_code')\n",
    "census_pd_combined_shape.head()"
   ]
  },
  {
   "cell_type": "code",
   "execution_count": null,
   "metadata": {},
   "outputs": [],
   "source": []
  }
 ],
 "metadata": {
  "kernelspec": {
   "display_name": "base",
   "language": "python",
   "name": "python3"
  },
  "language_info": {
   "codemirror_mode": {
    "name": "ipython",
    "version": 3
   },
   "file_extension": ".py",
   "mimetype": "text/x-python",
   "name": "python",
   "nbconvert_exporter": "python",
   "pygments_lexer": "ipython3",
   "version": "3.11.5"
  },
  "orig_nbformat": 4
 },
 "nbformat": 4,
 "nbformat_minor": 2
}
